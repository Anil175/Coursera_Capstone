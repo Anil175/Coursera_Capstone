{
    "cells": [
        {
            "metadata": {
                "collapsed": true
            },
            "cell_type": "markdown",
            "source": "# CapStone Project   - The Battle of Neighborhoods week(1-2)\n\n\n\n## Business Problem Section\n\n"
        },
        {
            "metadata": {},
            "cell_type": "markdown",
            "source": "### Background\n\nAccording to PIE News and World Atlas,the indian population is increasing Rapidly in Canada.Given the facts and figures, Toronto, the provincial capital of Ontario, is the most preferred city for Indians immigrating to Canada. As of 2016, the Greater Toronto Area had 995,125 South Asian Canadians. The history of Indo-Canadians in Toronto is more recent than that in British Columbia. It started around the 1960s. Today, the Indian-origin population is concentrated in the Etobicoke and Scarborough areas of Toronto and in the suburbs of Mississauga, Markham, and Brampton."
        },
        {
            "metadata": {},
            "cell_type": "markdown",
            "source": "### Business Problem\n\nThe business problem we are currently posing is: Which is the best locality/Neighborhood to start an indian restaurant, So that it will make a considerable profit.\nTo solve this business problem, we are going to cluster Torronto neighborhoods to check the frequency of indian restaurants and other venue types in order to recommend right venue. "
        },
        {
            "metadata": {},
            "cell_type": "markdown",
            "source": "## Data Section\n\nData required for this analysis is Neighborhoods of toronto city and its latitudes and longitudes. We get this information from wikipedia page(https://en.wikipedia.org/wiki/List_of_postal_codes_of_Canada:_M\") and its corresponding latitude and longitudes data from this link' http://cocl.us/Geospatial_data'.\n\nTo explore and target recommended locations across different venues according to the presence of indian restaurants, For this we will access wikipedia page and scrape it into pandas dataframe and merge the dataframe with geospatial data to get latitude and logitude data for each neighborhood,then by using Four squares API I am going to get the nearby venues for each neighborhood and then plot the distribution of the venues across the neighborhood. Then cluster the neighborhoods based on the frequency of indian restaurants. So that we are able to recommand best locality to start an indian restaurant.\n\n## Methodology\n\n\nThe Methodology section will describe the main components of our analysis and predication system. The Methodology section comprises four stages:\n\n1. Collect Required Data\n2. Explore and Understand Data\n3. Data preparation and preprocessing \n4. Modeling"
        }
    ],
    "metadata": {
        "kernelspec": {
            "name": "python3",
            "display_name": "Python 3.6",
            "language": "python"
        },
        "language_info": {
            "name": "python",
            "version": "3.6.9",
            "mimetype": "text/x-python",
            "codemirror_mode": {
                "name": "ipython",
                "version": 3
            },
            "pygments_lexer": "ipython3",
            "nbconvert_exporter": "python",
            "file_extension": ".py"
        }
    },
    "nbformat": 4,
    "nbformat_minor": 1
}